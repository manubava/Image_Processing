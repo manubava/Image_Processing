{
  "nbformat": 4,
  "nbformat_minor": 0,
  "metadata": {
    "colab": {
      "provenance": []
    },
    "kernelspec": {
      "name": "python3",
      "display_name": "Python 3"
    },
    "language_info": {
      "name": "python"
    }
  },
  "cells": [
    {
      "cell_type": "code",
      "execution_count": 1,
      "metadata": {
        "colab": {
          "base_uri": "https://localhost:8080/"
        },
        "id": "enHsTaVFZ39U",
        "outputId": "cf831c92-f3bb-4955-a628-e3a017690dcf"
      },
      "outputs": [
        {
          "output_type": "stream",
          "name": "stdout",
          "text": [
            "Número de Estrelas: 314\n",
            "Número de Meteoros: 322\n",
            "Meteoros caindo na Água: 105\n"
          ]
        }
      ],
      "source": [
        "from PIL import Image\n",
        "\n",
        "\n",
        "def carregar_imagem(caminho_da_imagem):\n",
        "   imagem = Image.open(caminho_da_imagem)\n",
        "   pixels = imagem.load()\n",
        "   largura, altura = imagem.size\n",
        "   return pixels, largura, altura\n",
        "\n",
        "\n",
        "def contar_estrelas(pixels, largura, altura):\n",
        "   contagem_estrelas = 0\n",
        "   for y in range(altura):\n",
        "       for x in range(largura):\n",
        "           pixel = pixels[x, y]\n",
        "           if len(pixel) == 4:\n",
        "               r, g, b, a = pixel\n",
        "           else:\n",
        "               r, g, b = pixel\n",
        "           if (r, g, b) == (255, 255, 255):\n",
        "               if regiao_conectada(pixels, x, y, largura, altura, (255, 255, 255)):\n",
        "                   contagem_estrelas += 1\n",
        "   return contagem_estrelas\n",
        "\n",
        "\n",
        "def contar_meteoros(pixels, largura, altura):\n",
        "   contagem_meteoros = 0\n",
        "   meteoros_na_agua = 0\n",
        "   for y in range(altura):\n",
        "       for x in range(largura):\n",
        "           pixel = pixels[x, y]\n",
        "           if len(pixel) == 4:\n",
        "               r, g, b, a = pixel\n",
        "           else:\n",
        "               r, g, b = pixel\n",
        "           if (r, g, b) == (255, 0, 0):\n",
        "               if regiao_conectada(pixels, x, y, largura, altura, (255, 0, 0)):\n",
        "                   contagem_meteoros += 1\n",
        "                   if meteoro_na_agua(pixels, x, y, largura, altura):\n",
        "                       meteoros_na_agua += 1\n",
        "   return contagem_meteoros, meteoros_na_agua\n",
        "\n",
        "\n",
        "def meteoro_na_agua(pixels, x, y, largura, altura):\n",
        "   for check_y in range(y + 1, altura):\n",
        "       pixel_abaixo = pixels[x, check_y]\n",
        "       if len(pixel_abaixo) == 4:\n",
        "           r_abaixo, g_abaixo, b_abaixo, a_abaixo = pixel_abaixo\n",
        "       else:\n",
        "           r_abaixo, g_abaixo, b_abaixo = pixel_abaixo\n",
        "       if (r_abaixo, g_abaixo, b_abaixo) == (0, 0, 0):\n",
        "           break\n",
        "       if (r_abaixo, g_abaixo, b_abaixo) == (0, 0, 255):\n",
        "           return True\n",
        "   return False\n",
        "\n",
        "\n",
        "def regiao_conectada(pixels, x, y, largura, altura, cor):\n",
        "   fila = [(x, y)]\n",
        "   while fila:\n",
        "       x_atual, y_atual = fila.pop(0)\n",
        "       for dx, dy in [(0, 1), (0, -1), (1, 0), (-1, 0)]:\n",
        "           novo_x, novo_y = x_atual + dx, y_atual + dy\n",
        "           if 0 <= novo_x < largura and 0 <= novo_y < altura:\n",
        "               novo_pixel = pixels[novo_x, novo_y]\n",
        "               if len(novo_pixel) == 4:\n",
        "                   r, g, b, a = novo_pixel\n",
        "               else:\n",
        "                   r, g, b = novo_pixel\n",
        "               if (r, g, b) == cor:\n",
        "                   fila.append((novo_x, novo_y))\n",
        "                   pixels[novo_x, novo_y] = (0, 0, 0)\n",
        "   return True\n",
        "\n",
        "\n",
        "def contar_estrelas_e_meteoros(caminho_da_imagem):\n",
        "   pixels, largura, altura = carregar_imagem(caminho_da_imagem)\n",
        "   contagem_estrelas = contar_estrelas(pixels, largura, altura)\n",
        "   contagem_meteoros, meteoros_na_agua = contar_meteoros(pixels, largura, altura)\n",
        "   return contagem_estrelas, contagem_meteoros, meteoros_na_agua\n",
        "\n",
        "\n",
        "caminho_da_imagem = 'meteor_challenge_01.png'\n",
        "\n",
        "\n",
        "contagem_estrelas, contagem_meteoros, meteoros_na_agua = contar_estrelas_e_meteoros(caminho_da_imagem)\n",
        "\n",
        "\n",
        "print(\"Número de Estrelas:\", contagem_estrelas)\n",
        "print(\"Número de Meteoros:\", contagem_meteoros)\n",
        "print(\"Meteoros caindo na Água:\", meteoros_na_agua)"
      ]
    }
  ]
}